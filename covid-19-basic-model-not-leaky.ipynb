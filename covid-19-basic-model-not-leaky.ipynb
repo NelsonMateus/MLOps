{
 "cells": [
  {
   "cell_type": "code",
   "execution_count": 1,
   "metadata": {
    "_cell_guid": "b1076dfc-b9ad-4769-8c92-a6c4dae69d19",
    "_uuid": "8f2839f25d086af736a60e9eeb907d3b93b6e0e5"
   },
   "outputs": [
    {
     "data": {
      "text/plain": [
       "(21726, 6)"
      ]
     },
     "execution_count": 1,
     "metadata": {},
     "output_type": "execute_result"
    }
   ],
   "source": [
    "import numpy as np\n",
    "import pandas as pd\n",
    "\n",
    "df = pd.read_csv(\"../input/covid19-global-forecasting-week-3/train.csv\")\n",
    "df.shape"
   ]
  },
  {
   "cell_type": "code",
   "execution_count": 2,
   "metadata": {
    "_cell_guid": "79c7e3d0-c299-4dcb-8224-4455121ee9b0",
    "_uuid": "d629ff2d2480ee46fbb7e2d37f6b5fab8052498a"
   },
   "outputs": [
    {
     "data": {
      "text/html": [
       "<div>\n",
       "<style scoped>\n",
       "    .dataframe tbody tr th:only-of-type {\n",
       "        vertical-align: middle;\n",
       "    }\n",
       "\n",
       "    .dataframe tbody tr th {\n",
       "        vertical-align: top;\n",
       "    }\n",
       "\n",
       "    .dataframe thead th {\n",
       "        text-align: right;\n",
       "    }\n",
       "</style>\n",
       "<table border=\"1\" class=\"dataframe\">\n",
       "  <thead>\n",
       "    <tr style=\"text-align: right;\">\n",
       "      <th></th>\n",
       "      <th>Id</th>\n",
       "      <th>Country_Region</th>\n",
       "      <th>Province_State</th>\n",
       "      <th>Date</th>\n",
       "      <th>ConfirmedCases</th>\n",
       "      <th>Fatalities</th>\n",
       "    </tr>\n",
       "  </thead>\n",
       "  <tbody>\n",
       "    <tr>\n",
       "      <th>0</th>\n",
       "      <td>1</td>\n",
       "      <td>Afghanistan</td>\n",
       "      <td>none</td>\n",
       "      <td>2020-01-22</td>\n",
       "      <td>0.0</td>\n",
       "      <td>0.0</td>\n",
       "    </tr>\n",
       "    <tr>\n",
       "      <th>1</th>\n",
       "      <td>2</td>\n",
       "      <td>Afghanistan</td>\n",
       "      <td>none</td>\n",
       "      <td>2020-01-23</td>\n",
       "      <td>0.0</td>\n",
       "      <td>0.0</td>\n",
       "    </tr>\n",
       "    <tr>\n",
       "      <th>2</th>\n",
       "      <td>3</td>\n",
       "      <td>Afghanistan</td>\n",
       "      <td>none</td>\n",
       "      <td>2020-01-24</td>\n",
       "      <td>0.0</td>\n",
       "      <td>0.0</td>\n",
       "    </tr>\n",
       "    <tr>\n",
       "      <th>3</th>\n",
       "      <td>4</td>\n",
       "      <td>Afghanistan</td>\n",
       "      <td>none</td>\n",
       "      <td>2020-01-25</td>\n",
       "      <td>0.0</td>\n",
       "      <td>0.0</td>\n",
       "    </tr>\n",
       "    <tr>\n",
       "      <th>4</th>\n",
       "      <td>5</td>\n",
       "      <td>Afghanistan</td>\n",
       "      <td>none</td>\n",
       "      <td>2020-01-26</td>\n",
       "      <td>0.0</td>\n",
       "      <td>0.0</td>\n",
       "    </tr>\n",
       "  </tbody>\n",
       "</table>\n",
       "</div>"
      ],
      "text/plain": [
       "   Id Country_Region Province_State       Date  ConfirmedCases  Fatalities\n",
       "0   1    Afghanistan           none 2020-01-22             0.0         0.0\n",
       "1   2    Afghanistan           none 2020-01-23             0.0         0.0\n",
       "2   3    Afghanistan           none 2020-01-24             0.0         0.0\n",
       "3   4    Afghanistan           none 2020-01-25             0.0         0.0\n",
       "4   5    Afghanistan           none 2020-01-26             0.0         0.0"
      ]
     },
     "execution_count": 2,
     "metadata": {},
     "output_type": "execute_result"
    }
   ],
   "source": [
    "loc_group = [\"Province_State\", \"Country_Region\"]\n",
    "\n",
    "\n",
    "def preprocess(df):\n",
    "    df[\"Date\"] = df[\"Date\"].astype(\"datetime64[ms]\")\n",
    "    for col in loc_group:\n",
    "        df[col].fillna(\"none\", inplace=True)\n",
    "    return df\n",
    "\n",
    "df = preprocess(df)\n",
    "sub_df = preprocess(pd.read_csv(\"../input/covid19-global-forecasting-week-3/test.csv\"))\n",
    "df.head()"
   ]
  },
  {
   "cell_type": "code",
   "execution_count": 3,
   "metadata": {},
   "outputs": [
    {
     "data": {
      "text/plain": [
       "(Timestamp('2020-01-22 00:00:00'), Timestamp('2020-04-01 00:00:00'))"
      ]
     },
     "execution_count": 3,
     "metadata": {},
     "output_type": "execute_result"
    }
   ],
   "source": [
    "df[\"Date\"].min(), df[\"Date\"].max()"
   ]
  },
  {
   "cell_type": "code",
   "execution_count": 4,
   "metadata": {},
   "outputs": [],
   "source": [
    "TARGETS = [\"ConfirmedCases\", \"Fatalities\"]\n",
    "\n",
    "for col in TARGETS:\n",
    "    df[col] = np.log1p(df[col])"
   ]
  },
  {
   "cell_type": "code",
   "execution_count": 5,
   "metadata": {},
   "outputs": [],
   "source": [
    "for col in TARGETS:\n",
    "    df[\"prev_{}\".format(col)] = df.groupby(loc_group)[col].shift()"
   ]
  },
  {
   "cell_type": "code",
   "execution_count": 6,
   "metadata": {},
   "outputs": [
    {
     "data": {
      "text/html": [
       "<div>\n",
       "<style scoped>\n",
       "    .dataframe tbody tr th:only-of-type {\n",
       "        vertical-align: middle;\n",
       "    }\n",
       "\n",
       "    .dataframe tbody tr th {\n",
       "        vertical-align: top;\n",
       "    }\n",
       "\n",
       "    .dataframe thead th {\n",
       "        text-align: right;\n",
       "    }\n",
       "</style>\n",
       "<table border=\"1\" class=\"dataframe\">\n",
       "  <thead>\n",
       "    <tr style=\"text-align: right;\">\n",
       "      <th></th>\n",
       "      <th>Id</th>\n",
       "      <th>Country_Region</th>\n",
       "      <th>Province_State</th>\n",
       "      <th>Date</th>\n",
       "      <th>ConfirmedCases</th>\n",
       "      <th>Fatalities</th>\n",
       "      <th>prev_ConfirmedCases</th>\n",
       "      <th>prev_Fatalities</th>\n",
       "    </tr>\n",
       "  </thead>\n",
       "  <tbody>\n",
       "    <tr>\n",
       "      <th>1</th>\n",
       "      <td>2</td>\n",
       "      <td>Afghanistan</td>\n",
       "      <td>none</td>\n",
       "      <td>2020-01-23</td>\n",
       "      <td>0.0</td>\n",
       "      <td>0.0</td>\n",
       "      <td>0.0</td>\n",
       "      <td>0.0</td>\n",
       "    </tr>\n",
       "    <tr>\n",
       "      <th>2</th>\n",
       "      <td>3</td>\n",
       "      <td>Afghanistan</td>\n",
       "      <td>none</td>\n",
       "      <td>2020-01-24</td>\n",
       "      <td>0.0</td>\n",
       "      <td>0.0</td>\n",
       "      <td>0.0</td>\n",
       "      <td>0.0</td>\n",
       "    </tr>\n",
       "    <tr>\n",
       "      <th>3</th>\n",
       "      <td>4</td>\n",
       "      <td>Afghanistan</td>\n",
       "      <td>none</td>\n",
       "      <td>2020-01-25</td>\n",
       "      <td>0.0</td>\n",
       "      <td>0.0</td>\n",
       "      <td>0.0</td>\n",
       "      <td>0.0</td>\n",
       "    </tr>\n",
       "    <tr>\n",
       "      <th>4</th>\n",
       "      <td>5</td>\n",
       "      <td>Afghanistan</td>\n",
       "      <td>none</td>\n",
       "      <td>2020-01-26</td>\n",
       "      <td>0.0</td>\n",
       "      <td>0.0</td>\n",
       "      <td>0.0</td>\n",
       "      <td>0.0</td>\n",
       "    </tr>\n",
       "    <tr>\n",
       "      <th>5</th>\n",
       "      <td>6</td>\n",
       "      <td>Afghanistan</td>\n",
       "      <td>none</td>\n",
       "      <td>2020-01-27</td>\n",
       "      <td>0.0</td>\n",
       "      <td>0.0</td>\n",
       "      <td>0.0</td>\n",
       "      <td>0.0</td>\n",
       "    </tr>\n",
       "  </tbody>\n",
       "</table>\n",
       "</div>"
      ],
      "text/plain": [
       "   Id Country_Region Province_State       Date  ConfirmedCases  Fatalities  \\\n",
       "1   2    Afghanistan           none 2020-01-23             0.0         0.0   \n",
       "2   3    Afghanistan           none 2020-01-24             0.0         0.0   \n",
       "3   4    Afghanistan           none 2020-01-25             0.0         0.0   \n",
       "4   5    Afghanistan           none 2020-01-26             0.0         0.0   \n",
       "5   6    Afghanistan           none 2020-01-27             0.0         0.0   \n",
       "\n",
       "   prev_ConfirmedCases  prev_Fatalities  \n",
       "1                  0.0              0.0  \n",
       "2                  0.0              0.0  \n",
       "3                  0.0              0.0  \n",
       "4                  0.0              0.0  \n",
       "5                  0.0              0.0  "
      ]
     },
     "execution_count": 6,
     "metadata": {},
     "output_type": "execute_result"
    }
   ],
   "source": [
    "df = df[df[\"Date\"] > df[\"Date\"].min()].copy()\n",
    "df.head()"
   ]
  },
  {
   "cell_type": "code",
   "execution_count": 7,
   "metadata": {},
   "outputs": [
    {
     "data": {
      "text/plain": [
       "((19278, 8), (2142, 8))"
      ]
     },
     "execution_count": 7,
     "metadata": {},
     "output_type": "execute_result"
    }
   ],
   "source": [
    "from datetime import timedelta\n",
    "\n",
    "TEST_DAYS = 7\n",
    "\n",
    "TRAIN_LAST =  - timedelta(days=TEST_DAYS)\n",
    "\n",
    "TEST_FIRST = sub_df[\"Date\"].min()\n",
    "TEST_DAYS = (df[\"Date\"].max() - TEST_FIRST).days + 1\n",
    "\n",
    "dev_df, test_df = df[df[\"Date\"] < TEST_FIRST].copy(), df[df[\"Date\"] >= TEST_FIRST].copy()\n",
    "dev_df.shape, test_df.shape"
   ]
  },
  {
   "cell_type": "code",
   "execution_count": 8,
   "metadata": {},
   "outputs": [
    {
     "data": {
      "text/plain": [
       "[0.04276376898471454, 0.01009907447273643]"
      ]
     },
     "execution_count": 8,
     "metadata": {},
     "output_type": "execute_result"
    }
   ],
   "source": [
    "from sklearn.linear_model import LinearRegression\n",
    "from sklearn.metrics import mean_squared_error\n",
    "from sklearn.preprocessing import PolynomialFeatures\n",
    "from sklearn.pipeline import Pipeline\n",
    "\n",
    "model = Pipeline([('poly', PolynomialFeatures(degree=2, include_bias=False)),\n",
    "                  ('linear', LinearRegression())])\n",
    "\n",
    "features = [\"prev_{}\".format(col) for col in TARGETS]\n",
    "\n",
    "model.fit(dev_df[features], dev_df[TARGETS])\n",
    "\n",
    "[mean_squared_error(dev_df[TARGETS[i]], model.predict(dev_df[features])[:, i]) for i in range(len(TARGETS))]"
   ]
  },
  {
   "cell_type": "code",
   "execution_count": 9,
   "metadata": {},
   "outputs": [
    {
     "name": "stdout",
     "output_type": "stream",
     "text": [
      "2020-03-26 00:00:00 0.25798\n",
      "2020-03-27 00:00:00 0.32953\n",
      "2020-03-28 00:00:00 0.39395\n",
      "2020-03-29 00:00:00 0.47952\n",
      "2020-03-30 00:00:00 0.53787\n",
      "2020-03-31 00:00:00 0.58438\n",
      "2020-04-01 00:00:00 0.64138\n"
     ]
    },
    {
     "data": {
      "text/plain": [
       "0.47916"
      ]
     },
     "execution_count": 9,
     "metadata": {},
     "output_type": "execute_result"
    }
   ],
   "source": [
    "def rmse(y_true, y_pred):\n",
    "    return np.sqrt(mean_squared_error(y_true, y_pred))\n",
    "\n",
    "def evaluate(df):\n",
    "    error = 0\n",
    "    for col in TARGETS:\n",
    "        error += rmse(df[col].values, df[\"pred_{}\".format(col)].values)\n",
    "    return np.round(error/len(TARGETS), 5)\n",
    "\n",
    "\n",
    "def predict(test_df, first_day, num_days, val=False):\n",
    "\n",
    "    y_pred = np.clip(model.predict(test_df.loc[test_df[\"Date\"] == first_day][features]), None, 16)\n",
    "\n",
    "    for i, col in enumerate(TARGETS):\n",
    "        test_df[\"pred_{}\".format(col)] = 0\n",
    "        test_df.loc[test_df[\"Date\"] == first_day, \"pred_{}\".format(col)] = y_pred[:, i]\n",
    "\n",
    "    if val:\n",
    "        print(first_day, evaluate(test_df[test_df[\"Date\"] == first_day]))\n",
    "\n",
    "    for d in range(1, num_days):\n",
    "        y_pred = np.clip(model.predict(y_pred), None, 16)\n",
    "        date = first_day + timedelta(days=d)\n",
    "\n",
    "        for i, col in enumerate(TARGETS):\n",
    "            test_df.loc[test_df[\"Date\"] == date, \"pred_{}\".format(col)] = y_pred[:, i]\n",
    "\n",
    "        if val:\n",
    "            print(date, evaluate(test_df[test_df[\"Date\"] == date]))\n",
    "        \n",
    "    return test_df\n",
    "\n",
    "test_df = predict(test_df, TEST_FIRST, TEST_DAYS, val=True)\n",
    "evaluate(test_df)"
   ]
  },
  {
   "cell_type": "code",
   "execution_count": 10,
   "metadata": {},
   "outputs": [],
   "source": [
    "for col in TARGETS:\n",
    "    test_df[col] = np.expm1(test_df[col])\n",
    "    test_df[\"pred_{}\".format(col)] = np.expm1(test_df[\"pred_{}\".format(col)])"
   ]
  },
  {
   "cell_type": "code",
   "execution_count": 11,
   "metadata": {},
   "outputs": [
    {
     "data": {
      "text/html": [
       "<div>\n",
       "<style scoped>\n",
       "    .dataframe tbody tr th:only-of-type {\n",
       "        vertical-align: middle;\n",
       "    }\n",
       "\n",
       "    .dataframe tbody tr th {\n",
       "        vertical-align: top;\n",
       "    }\n",
       "\n",
       "    .dataframe thead th {\n",
       "        text-align: right;\n",
       "    }\n",
       "</style>\n",
       "<table border=\"1\" class=\"dataframe\">\n",
       "  <thead>\n",
       "    <tr style=\"text-align: right;\">\n",
       "      <th></th>\n",
       "      <th>Id</th>\n",
       "      <th>Country_Region</th>\n",
       "      <th>Province_State</th>\n",
       "      <th>Date</th>\n",
       "      <th>ConfirmedCases</th>\n",
       "      <th>Fatalities</th>\n",
       "      <th>prev_ConfirmedCases</th>\n",
       "      <th>prev_Fatalities</th>\n",
       "      <th>ForecastId</th>\n",
       "      <th>pred_ConfirmedCases</th>\n",
       "      <th>pred_Fatalities</th>\n",
       "    </tr>\n",
       "  </thead>\n",
       "  <tbody>\n",
       "    <tr>\n",
       "      <th>0</th>\n",
       "      <td>NaN</td>\n",
       "      <td>Afghanistan</td>\n",
       "      <td>none</td>\n",
       "      <td>2020-03-26</td>\n",
       "      <td>99.477680</td>\n",
       "      <td>2.215183</td>\n",
       "      <td>4.442651</td>\n",
       "      <td>1.098612</td>\n",
       "      <td>1</td>\n",
       "      <td>4.609936</td>\n",
       "      <td>1.167884</td>\n",
       "    </tr>\n",
       "    <tr>\n",
       "      <th>1</th>\n",
       "      <td>NaN</td>\n",
       "      <td>Afghanistan</td>\n",
       "      <td>none</td>\n",
       "      <td>2020-03-27</td>\n",
       "      <td>117.370876</td>\n",
       "      <td>2.458014</td>\n",
       "      <td>NaN</td>\n",
       "      <td>NaN</td>\n",
       "      <td>2</td>\n",
       "      <td>4.773823</td>\n",
       "      <td>1.240694</td>\n",
       "    </tr>\n",
       "    <tr>\n",
       "      <th>2</th>\n",
       "      <td>NaN</td>\n",
       "      <td>Afghanistan</td>\n",
       "      <td>none</td>\n",
       "      <td>2020-03-28</td>\n",
       "      <td>137.927815</td>\n",
       "      <td>2.732309</td>\n",
       "      <td>NaN</td>\n",
       "      <td>NaN</td>\n",
       "      <td>3</td>\n",
       "      <td>4.933954</td>\n",
       "      <td>1.317027</td>\n",
       "    </tr>\n",
       "    <tr>\n",
       "      <th>3</th>\n",
       "      <td>NaN</td>\n",
       "      <td>Afghanistan</td>\n",
       "      <td>none</td>\n",
       "      <td>2020-03-29</td>\n",
       "      <td>161.398592</td>\n",
       "      <td>3.042438</td>\n",
       "      <td>NaN</td>\n",
       "      <td>NaN</td>\n",
       "      <td>4</td>\n",
       "      <td>5.090054</td>\n",
       "      <td>1.396848</td>\n",
       "    </tr>\n",
       "    <tr>\n",
       "      <th>4</th>\n",
       "      <td>NaN</td>\n",
       "      <td>Afghanistan</td>\n",
       "      <td>none</td>\n",
       "      <td>2020-03-30</td>\n",
       "      <td>188.033244</td>\n",
       "      <td>3.393414</td>\n",
       "      <td>NaN</td>\n",
       "      <td>NaN</td>\n",
       "      <td>5</td>\n",
       "      <td>5.241923</td>\n",
       "      <td>1.480107</td>\n",
       "    </tr>\n",
       "  </tbody>\n",
       "</table>\n",
       "</div>"
      ],
      "text/plain": [
       "   Id Country_Region Province_State       Date  ConfirmedCases  Fatalities  \\\n",
       "0 NaN    Afghanistan           none 2020-03-26       99.477680    2.215183   \n",
       "1 NaN    Afghanistan           none 2020-03-27      117.370876    2.458014   \n",
       "2 NaN    Afghanistan           none 2020-03-28      137.927815    2.732309   \n",
       "3 NaN    Afghanistan           none 2020-03-29      161.398592    3.042438   \n",
       "4 NaN    Afghanistan           none 2020-03-30      188.033244    3.393414   \n",
       "\n",
       "   prev_ConfirmedCases  prev_Fatalities  ForecastId  pred_ConfirmedCases  \\\n",
       "0             4.442651         1.098612           1             4.609936   \n",
       "1                  NaN              NaN           2             4.773823   \n",
       "2                  NaN              NaN           3             4.933954   \n",
       "3                  NaN              NaN           4             5.090054   \n",
       "4                  NaN              NaN           5             5.241923   \n",
       "\n",
       "   pred_Fatalities  \n",
       "0         1.167884  \n",
       "1         1.240694  \n",
       "2         1.317027  \n",
       "3         1.396848  \n",
       "4         1.480107  "
      ]
     },
     "execution_count": 11,
     "metadata": {},
     "output_type": "execute_result"
    }
   ],
   "source": [
    "SUB_FIRST = sub_df[\"Date\"].min()\n",
    "SUB_DAYS = (sub_df[\"Date\"].max() - sub_df[\"Date\"].min()).days + 1\n",
    "\n",
    "sub_df = dev_df.append(sub_df, sort=False)\n",
    "\n",
    "for col in TARGETS:\n",
    "    sub_df[\"prev_{}\".format(col)] = sub_df.groupby(loc_group)[col].shift()\n",
    "    \n",
    "sub_df = sub_df[sub_df[\"Date\"] >= SUB_FIRST].copy()\n",
    "sub_df[\"ForecastId\"] = sub_df[\"ForecastId\"].astype(np.int16)\n",
    "sub_df = predict(sub_df, SUB_FIRST, SUB_DAYS)\n",
    "\n",
    "for col in TARGETS:\n",
    "    sub_df[col] = np.expm1(sub_df[\"pred_{}\".format(col)])\n",
    "    \n",
    "sub_df.head()"
   ]
  },
  {
   "cell_type": "code",
   "execution_count": 12,
   "metadata": {},
   "outputs": [],
   "source": [
    "sub_df.to_csv(\"submission.csv\", index=False, columns=[\"ForecastId\"] + TARGETS)"
   ]
  },
  {
   "cell_type": "code",
   "execution_count": null,
   "metadata": {},
   "outputs": [],
   "source": []
  }
 ],
 "metadata": {
  "kernelspec": {
   "display_name": "Python 3",
   "language": "python",
   "name": "python3"
  },
  "language_info": {
   "codemirror_mode": {
    "name": "ipython",
    "version": 3
   },
   "file_extension": ".py",
   "mimetype": "text/x-python",
   "name": "python",
   "nbconvert_exporter": "python",
   "pygments_lexer": "ipython3",
   "version": "3.6.6"
  }
 },
 "nbformat": 4,
 "nbformat_minor": 4
}
